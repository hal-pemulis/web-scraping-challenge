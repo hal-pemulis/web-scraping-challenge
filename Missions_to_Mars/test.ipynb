{
 "cells": [
  {
   "cell_type": "code",
   "execution_count": 6,
   "metadata": {},
   "outputs": [],
   "source": [
    "import pymongo\n"
   ]
  },
  {
   "cell_type": "code",
   "execution_count": 7,
   "metadata": {},
   "outputs": [
    {
     "name": "stderr",
     "output_type": "stream",
     "text": [
      "/opt/anaconda3/lib/python3.7/site-packages/ipykernel_launcher.py:16: DeprecationWarning: update is deprecated. Use replace_one, update_one or update_many instead.\n",
      "  app.launch_new_instance()\n"
     ]
    },
    {
     "data": {
      "text/plain": [
       "{'n': 1,\n",
       " 'nModified': 0,\n",
       " 'upserted': ObjectId('5e9f447e2aa298565392e7f3'),\n",
       " 'ok': 1.0,\n",
       " 'updatedExisting': False}"
      ]
     },
     "execution_count": 7,
     "metadata": {},
     "output_type": "execute_result"
    }
   ],
   "source": [
    "recent_mars_info={}\n",
    "recent_mars_info['Latest_News'] = {'Title':'1', 'Teaser': '2', 'URL': '3', 'Image': '4'}\n",
    "recent_mars_info['JPL_Featured_Image'] = '5'\n",
    "recent_mars_info['Current_Mars_Weather'] = '6'\n",
    "recent_mars_info['Hemisphere_images'] = '7'\n",
    "recent_mars_info['Mars_Facts'] = {}\n",
    "\n",
    "# Initialize PyMongo to work with MongoDBs\n",
    "conn = 'mongodb://localhost:27017'\n",
    "client = pymongo.MongoClient(conn)\n",
    "\n",
    "# Define database and collection\n",
    "db = client.mars_db\n",
    "collection = db.mars_info\n",
    "\n",
    "db.collection.update({}, {\"$set\": {'mars_info':recent_mars_info}}, upsert=True)"
   ]
  },
  {
   "cell_type": "code",
   "execution_count": 8,
   "metadata": {},
   "outputs": [
    {
     "data": {
      "text/plain": [
       "{'_id': ObjectId('5e9f447e2aa298565392e7f3'),\n",
       " 'mars_info': {'Latest_News': {'Title': '1',\n",
       "   'Teaser': '2',\n",
       "   'URL': '3',\n",
       "   'Image': '4'},\n",
       "  'JPL_Featured_Image': '5',\n",
       "  'Current_Mars_Weather': '6',\n",
       "  'Hemisphere_images': '7',\n",
       "  'Mars_Facts': {}}}"
      ]
     },
     "execution_count": 8,
     "metadata": {},
     "output_type": "execute_result"
    }
   ],
   "source": [
    "# client.drop_database(db)\n",
    "doc = db.collection.find()\n",
    "doc[0]"
   ]
  },
  {
   "cell_type": "code",
   "execution_count": null,
   "metadata": {},
   "outputs": [],
   "source": []
  }
 ],
 "metadata": {
  "kernelspec": {
   "display_name": "Python 3",
   "language": "python",
   "name": "python3"
  },
  "language_info": {
   "codemirror_mode": {
    "name": "ipython",
    "version": 3
   },
   "file_extension": ".py",
   "mimetype": "text/x-python",
   "name": "python",
   "nbconvert_exporter": "python",
   "pygments_lexer": "ipython3",
   "version": "3.7.4"
  }
 },
 "nbformat": 4,
 "nbformat_minor": 2
}
