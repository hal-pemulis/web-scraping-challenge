{
 "cells": [
  {
   "cell_type": "markdown",
   "metadata": {},
   "source": [
    "# Step 1 - Scraping"
   ]
  },
  {
   "cell_type": "code",
   "execution_count": 1,
   "metadata": {},
   "outputs": [],
   "source": [
    "# Import dependencies\n",
    "import pandas as pd\n",
    "from bs4 import BeautifulSoup\n",
    "from splinter import Browser\n",
    "import requests\n",
    "import pymongo\n",
    "import time"
   ]
  },
  {
   "cell_type": "markdown",
   "metadata": {},
   "source": [
    "### NASA Mars News\n",
    "Scrape the NASA Mars News Site and collect the latest News Title and Paragraph Text. \n",
    "Assign the text to variables that you can reference later."
   ]
  },
  {
   "cell_type": "code",
   "execution_count": 3,
   "metadata": {},
   "outputs": [
    {
     "name": "stdout",
     "output_type": "stream",
     "text": [
      "Title: How NASA's Perseverance Mars Team Adjusted to Work in the Time of Coronavirus \n",
      "Teaser: /news/8654/how-nasas-perseverance-mars-team-adjusted-to-work-in-the-time-of-coronavirus/\n",
      "URL: Like much of the rest of the world, the Mars rover team is pushing forward with its mission-critical work while putting the health and safety of their colleagues and community first.\n",
      "Image link: /assets/overlay-arrow.png\n",
      "------\n"
     ]
    }
   ],
   "source": [
    "executable_path = {'executable_path': '/usr/local/bin/chromedriver'}\n",
    "browser = Browser('chrome', **executable_path, headless=False)\n",
    "\n",
    "nasa_url = 'https://mars.nasa.gov/news/'\n",
    "\n",
    "browser.visit(nasa_url)\n",
    "\n",
    "html = browser.html\n",
    "\n",
    "soup = BeautifulSoup(html, 'html.parser')\n",
    "\n",
    "results = soup.find('ul', class_=\"item_list\")\n",
    "\n",
    "results_title = results.find('div', class_='content_title')\n",
    "\n",
    "news_title = results_title.a.text\n",
    "\n",
    "news_link = results.a['href']\n",
    "\n",
    "news_p = results.find('div', class_='article_teaser_body').text\n",
    "\n",
    "news_img = results.img['src']\n",
    "\n",
    "print(f'Title: {news_title}')\n",
    "print(f'Teaser: {news_link}')\n",
    "print(f'URL: {news_p}')\n",
    "print(f'Image link: {news_img}')\n",
    "print('------')"
   ]
  },
  {
   "cell_type": "code",
   "execution_count": null,
   "metadata": {},
   "outputs": [],
   "source": [
    "time.sleep(5)"
   ]
  },
  {
   "cell_type": "markdown",
   "metadata": {},
   "source": [
    "### JPL Featured Mars Image\n",
    "Use splinter to navigate the site and find the image url for the current Featured Mars Image. \n",
    "Assign the url string to a variable called featured_image_url."
   ]
  },
  {
   "cell_type": "code",
   "execution_count": 3,
   "metadata": {},
   "outputs": [
    {
     "data": {
      "text/plain": [
       "'https://www.jpl.nasa.gov/spaceimages/images/mediumsize/PIA23170_ip.jpg'"
      ]
     },
     "execution_count": 3,
     "metadata": {},
     "output_type": "execute_result"
    }
   ],
   "source": [
    "executable_path = {'executable_path': '/usr/local/bin/chromedriver'}\n",
    "browser = Browser('chrome', **executable_path, headless=False)\n",
    "\n",
    "jpl_url = 'https://www.jpl.nasa.gov/spaceimages/?search=&category=Mars'\n",
    "\n",
    "browser.visit(jpl_url)\n",
    "\n",
    "html = browser.html\n",
    "soup = BeautifulSoup(html, 'html.parser')\n",
    "\n",
    "featured_image_url = (f\"https://www.jpl.nasa.gov{soup.find('a', class_='button fancybox')['data-fancybox-href']}\")\n",
    "featured_image_url"
   ]
  },
  {
   "cell_type": "code",
   "execution_count": null,
   "metadata": {},
   "outputs": [],
   "source": [
    "# Closes browser window\n",
    "browser.quit()"
   ]
  },
  {
   "cell_type": "markdown",
   "metadata": {},
   "source": [
    "### Mars Weather Tweet\n",
    "Visit the Mars Weather twitter account here and scrape the latest Mars weather tweet from the page. \n",
    "Save the tweet text for the weather report as a variable called mars_weather."
   ]
  },
  {
   "cell_type": "code",
   "execution_count": 4,
   "metadata": {},
   "outputs": [
    {
     "data": {
      "text/plain": [
       "'InSight sol 495 (2020-04-17) low -94.0ºC (-137.2ºF) high -4.2ºC (24.4ºF)\\nwinds from the WNW at 4.6 m/s (10.4 mph) gusting to 16.7 m/s (37.3 mph)\\npressure at 6.60 hPapic.twitter.com/SkjAdWsePB'"
      ]
     },
     "execution_count": 4,
     "metadata": {},
     "output_type": "execute_result"
    }
   ],
   "source": [
    "request = requests.get('https://twitter.com/marswxreport?lang=en')\n",
    "\n",
    "soup = BeautifulSoup(request.content, 'html.parser')\n",
    "\n",
    "mars_weather = soup.find('p', class_=\"TweetTextSize TweetTextSize--normal js-tweet-text tweet-text\").text\n",
    "\n",
    "mars_weather"
   ]
  },
  {
   "cell_type": "markdown",
   "metadata": {},
   "source": [
    "### Mars Facts\n",
    "Visit the Mars Facts webpage here and use Pandas to scrape the table containing facts about the planet including Diameter, Mass, etc."
   ]
  },
  {
   "cell_type": "code",
   "execution_count": 10,
   "metadata": {},
   "outputs": [
    {
     "data": {
      "text/plain": [
       "{'Equatorial Diameter:': '6,792 km',\n",
       " 'Polar Diameter:': '6,752 km',\n",
       " 'Mass:': '6.39 × 10^23 kg (0.11 Earths)',\n",
       " 'Moons:': '2 (Phobos & Deimos)',\n",
       " 'Orbit Distance:': '227,943,824 km (1.38 AU)',\n",
       " 'Orbit Period:': '687 days (1.9 years)',\n",
       " 'Surface Temperature:': '-87 to -5 °C',\n",
       " 'First Record:': '2nd millennium BC',\n",
       " 'Recorded By:': 'Egyptian astronomers'}"
      ]
     },
     "execution_count": 10,
     "metadata": {},
     "output_type": "execute_result"
    }
   ],
   "source": [
    "space_facts = 'https://space-facts.com/mars/'\n",
    "\n",
    "# Use Pandas' `read_html` to parse the url\n",
    "tables = pd.read_html(space_facts)\n",
    "\n",
    "df = tables[0]\n",
    "\n",
    "df.columns = ['Index', 'Value']\n",
    "\n",
    "df.set_index('Index', inplace=True)\n",
    "\n",
    "# df\n",
    "fact_dict = df.to_dict()\n",
    "\n",
    "fact_dict['Value']\n",
    "\n",
    "# df.to_html('../Resources/mars_table.html')"
   ]
  },
  {
   "cell_type": "markdown",
   "metadata": {},
   "source": [
    "### Mars Hemispheres\n",
    "\n",
    "Visit the USGS Astrogeology site here to obtain high resolution images for each of Mar's hemispheres."
   ]
  },
  {
   "cell_type": "code",
   "execution_count": 6,
   "metadata": {},
   "outputs": [
    {
     "data": {
      "text/plain": [
       "[{'title': 'Cerberus',\n",
       "  'image_url': 'http://astropedia.astrogeology.usgs.gov/download/Mars/Viking/cerberus_enhanced.tif/full.jpg'},\n",
       " {'title': 'Schiaparelli',\n",
       "  'image_url': 'http://astropedia.astrogeology.usgs.gov/download/Mars/Viking/schiaparelli_enhanced.tif/full.jpg'},\n",
       " {'title': 'Syrtis',\n",
       "  'image_url': 'http://astropedia.astrogeology.usgs.gov/download/Mars/Viking/syrtis_major_enhanced.tif/full.jpg'},\n",
       " {'title': 'Valles',\n",
       "  'image_url': 'http://astropedia.astrogeology.usgs.gov/download/Mars/Viking/valles_marineris_enhanced.tif/full.jpg'}]"
      ]
     },
     "execution_count": 6,
     "metadata": {},
     "output_type": "execute_result"
    }
   ],
   "source": [
    "mars_pics_url = 'https://astrogeology.usgs.gov/search/results?q=hemisphere+enhanced&k1=target&v1=Mars'\n",
    "\n",
    "request = requests.get(mars_pics_url)\n",
    "\n",
    "soup = BeautifulSoup(request.content, 'html.parser')\n",
    "\n",
    "results = soup.find_all('a', class_=\"itemLink product-item\")\n",
    "\n",
    "img_list = []\n",
    "\n",
    "for result in results:\n",
    "    \n",
    "    img = (f\"https://astrogeology.usgs.gov{result['href']}\")\n",
    "                    \n",
    "                    \n",
    "    pic_req = requests.get(img)\n",
    "    \n",
    "    \n",
    "    pic_soup = BeautifulSoup(pic_req.content, 'html.parser')\n",
    "           \n",
    "    page_name = (pic_soup.find('h2', class_='title')).text\n",
    "           \n",
    "    title = page_name.split(' ')[0]\n",
    "    \n",
    "    results = pic_soup.find('li')\n",
    "    \n",
    "    full_pic = results.find('a')['href']\n",
    "           \n",
    "    img_list.append({'title': title, 'image_url': full_pic})\n",
    "               \n",
    "img_list"
   ]
  },
  {
   "cell_type": "markdown",
   "metadata": {},
   "source": [
    "# Step 2 - MongoDB and Flask Application"
   ]
  },
  {
   "cell_type": "code",
   "execution_count": 9,
   "metadata": {},
   "outputs": [],
   "source": [
    "recent_mars_info={}\n",
    "recent_mars_info['Latest News'] = {'Title':news_title, 'Teaser': news_p, 'URL': news_link, 'Image': news_img}\n",
    "recent_mars_info['JPL Featured Image'] = featured_image_url\n",
    "recent_mars_info['Current Mars Weather'] = mars_weather\n",
    "recent_mars_info['Hemisphere images'] = img_list\n",
    "\n",
    "df_dict = df.to_dict()\n",
    "\n",
    "recent_mars_info['Mars Facts'] = df_dict['Value']\n"
   ]
  },
  {
   "cell_type": "code",
   "execution_count": 10,
   "metadata": {},
   "outputs": [
    {
     "name": "stdout",
     "output_type": "stream",
     "text": [
      "{'_id': ObjectId('5e9ca19339f4f4769f07e81b'), 'Latest News': {'Title': \"NASA's Curiosity Keeps Rolling As Team Operates Rover From Home\", 'Teaser': 'The team has learned to meet new challenges as they work remotely on the Mars mission.', 'URL': '/news/8647/nasas-curiosity-keeps-rolling-as-team-operates-rover-from-home/', 'Image': '/assets/overlay-arrow.png'}, 'JPL Featured Image': 'https://www.jpl.nasa.gov/spaceimages/images/mediumsize/PIA23170_ip.jpg', 'Current Mars Weather': 'InSight sol 495 (2020-04-17) low -94.0ºC (-137.2ºF) high -4.2ºC (24.4ºF)\\nwinds from the WNW at 4.6 m/s (10.4 mph) gusting to 16.7 m/s (37.3 mph)\\npressure at 6.60 hPapic.twitter.com/SkjAdWsePB', 'Hemisphere images': [{'title': 'Cerberus', 'image_url': 'http://astropedia.astrogeology.usgs.gov/download/Mars/Viking/cerberus_enhanced.tif/full.jpg'}, {'title': 'Schiaparelli', 'image_url': 'http://astropedia.astrogeology.usgs.gov/download/Mars/Viking/schiaparelli_enhanced.tif/full.jpg'}, {'title': 'Syrtis', 'image_url': 'http://astropedia.astrogeology.usgs.gov/download/Mars/Viking/syrtis_major_enhanced.tif/full.jpg'}, {'title': 'Valles', 'image_url': 'http://astropedia.astrogeology.usgs.gov/download/Mars/Viking/valles_marineris_enhanced.tif/full.jpg'}], 'Mars Facts': {'Equatorial Diameter:': '6,792 km', 'Polar Diameter:': '6,752 km', 'Mass:': '6.39 × 10^23 kg (0.11 Earths)', 'Moons:': '2 (Phobos & Deimos)', 'Orbit Distance:': '227,943,824 km (1.38 AU)', 'Orbit Period:': '687 days (1.9 years)', 'Surface Temperature:': '-87 to -5 °C', 'First Record:': '2nd millennium BC', 'Recorded By:': 'Egyptian astronomers'}}\n"
     ]
    }
   ],
   "source": [
    "conn = 'mongodb://localhost:27017'\n",
    "client = pymongo.MongoClient(conn)\n",
    "\n",
    "# Define database and collection\n",
    "db = client.mars_db\n",
    "collection = db.mars_info\n",
    "\n",
    "collection.insert_one(recent_mars_info)\n",
    "\n",
    "listings = db.mars_info.find()\n",
    "\n",
    "for listing in listings:\n",
    "    print(listing)"
   ]
  },
  {
   "cell_type": "code",
   "execution_count": null,
   "metadata": {},
   "outputs": [],
   "source": []
  }
 ],
 "metadata": {
  "kernelspec": {
   "display_name": "Python 3",
   "language": "python",
   "name": "python3"
  },
  "language_info": {
   "codemirror_mode": {
    "name": "ipython",
    "version": 3
   },
   "file_extension": ".py",
   "mimetype": "text/x-python",
   "name": "python",
   "nbconvert_exporter": "python",
   "pygments_lexer": "ipython3",
   "version": "3.7.4"
  }
 },
 "nbformat": 4,
 "nbformat_minor": 2
}
