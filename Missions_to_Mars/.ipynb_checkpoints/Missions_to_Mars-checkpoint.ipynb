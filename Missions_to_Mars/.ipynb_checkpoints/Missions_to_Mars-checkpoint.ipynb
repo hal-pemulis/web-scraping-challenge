{
 "cells": [
  {
   "cell_type": "markdown",
   "metadata": {},
   "source": [
    "# Step 1 - Scraping"
   ]
  },
  {
   "cell_type": "code",
   "execution_count": 15,
   "metadata": {},
   "outputs": [],
   "source": [
    "# Import dependencies\n",
    "import pandas as pd\n",
    "from bs4 import BeautifulSoup\n",
    "from splinter import Browser\n",
    "import requests\n",
    "import pymongo\n",
    "import time"
   ]
  },
  {
   "cell_type": "markdown",
   "metadata": {},
   "source": [
    "### NASA Mars News\n",
    "Scrape the NASA Mars News Site and collect the latest News Title and Paragraph Text. \n",
    "Assign the text to variables that you can reference later."
   ]
  },
  {
   "cell_type": "code",
   "execution_count": 16,
   "metadata": {},
   "outputs": [
    {
     "name": "stdout",
     "output_type": "stream",
     "text": [
      "Title: Q&A with the Student Who Named Ingenuity, NASA's Mars Helicopter\n",
      "Teaser: /news/8660/qa-with-the-student-who-named-ingenuity-nasas-mars-helicopter/\n",
      "URL: As a longtime fan of space exploration, Vaneeza Rupani appreciates the creativity and collaboration involved with trying to fly on another planet.\n",
      "Image link: /assets/overlay-arrow.png\n",
      "------\n"
     ]
    }
   ],
   "source": [
    "executable_path = {'executable_path': '/usr/local/bin/chromedriver'}\n",
    "browser = Browser('chrome', **executable_path, headless=False)\n",
    "\n",
    "nasa_url = 'https://mars.nasa.gov/news/'\n",
    "\n",
    "browser.visit(nasa_url)\n",
    "\n",
    "time.sleep(5)\n",
    "\n",
    "html = browser.html\n",
    "\n",
    "soup = BeautifulSoup(html, 'html.parser')\n",
    "\n",
    "results = soup.find('ul', class_=\"item_list\")\n",
    "\n",
    "results_title = results.find('div', class_='content_title')\n",
    "\n",
    "news_title = results_title.a.text\n",
    "\n",
    "news_link = results.a['href']\n",
    "\n",
    "news_p = results.find('div', class_='article_teaser_body').text\n",
    "\n",
    "news_img = results.img['src']\n",
    "\n",
    "print(f'Title: {news_title}')\n",
    "print(f'Teaser: {news_link}')\n",
    "print(f'URL: {news_p}')\n",
    "print(f'Image link: {news_img}')\n",
    "print('------')"
   ]
  },
  {
   "cell_type": "code",
   "execution_count": 17,
   "metadata": {},
   "outputs": [],
   "source": [
    "# Closes browser window\n",
    "browser.quit()"
   ]
  },
  {
   "cell_type": "markdown",
   "metadata": {},
   "source": [
    "### JPL Featured Mars Image\n",
    "Use splinter to navigate the site and find the image url for the current Featured Mars Image. \n",
    "Assign the url string to a variable called featured_image_url."
   ]
  },
  {
   "cell_type": "code",
   "execution_count": 18,
   "metadata": {},
   "outputs": [
    {
     "data": {
      "text/plain": [
       "'https://www.jpl.nasa.gov/spaceimages/images/mediumsize/PIA16605_ip.jpg'"
      ]
     },
     "execution_count": 18,
     "metadata": {},
     "output_type": "execute_result"
    }
   ],
   "source": [
    "executable_path = {'executable_path': '/usr/local/bin/chromedriver'}\n",
    "browser = Browser('chrome', **executable_path, headless=False)\n",
    "\n",
    "jpl_url = 'https://www.jpl.nasa.gov/spaceimages/?search=&category=Mars'\n",
    "\n",
    "browser.visit(jpl_url)\n",
    "\n",
    "time.sleep(5)\n",
    "\n",
    "html = browser.html\n",
    "soup = BeautifulSoup(html, 'html.parser')\n",
    "\n",
    "featured_image_url = (f\"https://www.jpl.nasa.gov{soup.find('a', class_='button fancybox')['data-fancybox-href']}\")\n",
    "featured_image_url"
   ]
  },
  {
   "cell_type": "code",
   "execution_count": 19,
   "metadata": {},
   "outputs": [],
   "source": [
    "# Closes browser window\n",
    "browser.quit()"
   ]
  },
  {
   "cell_type": "markdown",
   "metadata": {},
   "source": [
    "### Mars Weather Tweet\n",
    "Visit the Mars Weather twitter account here and scrape the latest Mars weather tweet from the page. \n",
    "Save the tweet text for the weather report as a variable called mars_weather."
   ]
  },
  {
   "cell_type": "code",
   "execution_count": 20,
   "metadata": {},
   "outputs": [
    {
     "data": {
      "text/plain": [
       "'Lovely view of Gale Crater right in the middle of this. https://twitter.com/landru79/status/1255504178719404034\\xa0…pic.twitter.com/m38l1OIKHE'"
      ]
     },
     "execution_count": 20,
     "metadata": {},
     "output_type": "execute_result"
    }
   ],
   "source": [
    "request = requests.get('https://twitter.com/marswxreport?lang=en')\n",
    "\n",
    "soup = BeautifulSoup(request.content, 'html.parser')\n",
    "\n",
    "mars_weather = soup.find('p', class_=\"TweetTextSize TweetTextSize--normal js-tweet-text tweet-text\").text\n",
    "\n",
    "mars_weather"
   ]
  },
  {
   "cell_type": "markdown",
   "metadata": {},
   "source": [
    "### Mars Facts\n",
    "Visit the Mars Facts webpage here and use Pandas to scrape the table containing facts about the planet including Diameter, Mass, etc."
   ]
  },
  {
   "cell_type": "code",
   "execution_count": 21,
   "metadata": {},
   "outputs": [
    {
     "data": {
      "text/plain": [
       "{'Equatorial Diameter:': '6,792 km',\n",
       " 'Polar Diameter:': '6,752 km',\n",
       " 'Mass:': '6.39 × 10^23 kg (0.11 Earths)',\n",
       " 'Moons:': '2 (Phobos & Deimos)',\n",
       " 'Orbit Distance:': '227,943,824 km (1.38 AU)',\n",
       " 'Orbit Period:': '687 days (1.9 years)',\n",
       " 'Surface Temperature:': '-87 to -5 °C',\n",
       " 'First Record:': '2nd millennium BC',\n",
       " 'Recorded By:': 'Egyptian astronomers'}"
      ]
     },
     "execution_count": 21,
     "metadata": {},
     "output_type": "execute_result"
    }
   ],
   "source": [
    "space_facts = 'https://space-facts.com/mars/'\n",
    "\n",
    "# Use Pandas' `read_html` to parse the url\n",
    "tables = pd.read_html(space_facts)\n",
    "\n",
    "df = tables[0]\n",
    "\n",
    "df.columns = ['Index', 'Value']\n",
    "\n",
    "df.set_index('Index', inplace=True)\n",
    "\n",
    "# df\n",
    "fact_dict = df.to_dict()\n",
    "\n",
    "fact_dict['Value']\n",
    "\n",
    "# df.to_html('../Resources/mars_table.html')"
   ]
  },
  {
   "cell_type": "markdown",
   "metadata": {},
   "source": [
    "### Mars Hemispheres\n",
    "\n",
    "Visit the USGS Astrogeology site here to obtain high resolution images for each of Mar's hemispheres."
   ]
  },
  {
   "cell_type": "code",
   "execution_count": 22,
   "metadata": {},
   "outputs": [
    {
     "data": {
      "text/plain": [
       "{'Cerberus': 'http://astropedia.astrogeology.usgs.gov/download/Mars/Viking/cerberus_enhanced.tif/full.jpg',\n",
       " 'Schiaparelli': 'http://astropedia.astrogeology.usgs.gov/download/Mars/Viking/schiaparelli_enhanced.tif/full.jpg',\n",
       " 'Syrtis': 'http://astropedia.astrogeology.usgs.gov/download/Mars/Viking/syrtis_major_enhanced.tif/full.jpg',\n",
       " 'Valles': 'http://astropedia.astrogeology.usgs.gov/download/Mars/Viking/valles_marineris_enhanced.tif/full.jpg'}"
      ]
     },
     "execution_count": 22,
     "metadata": {},
     "output_type": "execute_result"
    }
   ],
   "source": [
    "mars_pics_url = 'https://astrogeology.usgs.gov/search/results?q=hemisphere+enhanced&k1=target&v1=Mars'\n",
    "\n",
    "request = requests.get(mars_pics_url)\n",
    "\n",
    "soup = BeautifulSoup(request.content, 'html.parser')\n",
    "\n",
    "results = soup.find_all('a', class_=\"itemLink product-item\")\n",
    "\n",
    "img_dict = {}\n",
    "\n",
    "for result in results:\n",
    "    \n",
    "    img = (f\"https://astrogeology.usgs.gov{result['href']}\")\n",
    "                    \n",
    "                    \n",
    "    pic_req = requests.get(img)\n",
    "    \n",
    "    \n",
    "    pic_soup = BeautifulSoup(pic_req.content, 'html.parser')\n",
    "           \n",
    "    page_name = (pic_soup.find('h2', class_='title')).text\n",
    "           \n",
    "    title = page_name.split(' ')[0]\n",
    "    \n",
    "    results = pic_soup.find('li')\n",
    "    \n",
    "    full_pic = results.find('a')['href']\n",
    "           \n",
    "    img_dict[title] = full_pic\n",
    "               \n",
    "img_dict"
   ]
  },
  {
   "cell_type": "markdown",
   "metadata": {},
   "source": [
    "# Step 2 - MongoDB and Flask Application"
   ]
  },
  {
   "cell_type": "code",
   "execution_count": 23,
   "metadata": {},
   "outputs": [
    {
     "data": {
      "text/plain": [
       "{'Equatorial Diameter:': '6,792 km',\n",
       " 'Polar Diameter:': '6,752 km',\n",
       " 'Mass:': '6.39 × 10^23 kg (0.11 Earths)',\n",
       " 'Moons:': '2 (Phobos & Deimos)',\n",
       " 'Orbit Distance:': '227,943,824 km (1.38 AU)',\n",
       " 'Orbit Period:': '687 days (1.9 years)',\n",
       " 'Surface Temperature:': '-87 to -5 °C',\n",
       " 'First Record:': '2nd millennium BC',\n",
       " 'Recorded By:': 'Egyptian astronomers'}"
      ]
     },
     "execution_count": 23,
     "metadata": {},
     "output_type": "execute_result"
    }
   ],
   "source": [
    "recent_mars_info={}\n",
    "recent_mars_info['Latest News'] = {'Title':news_title, 'Teaser': news_p, 'URL': news_link, 'Image': news_img}\n",
    "recent_mars_info['JPL Featured Image'] = featured_image_url\n",
    "recent_mars_info['Current Mars Weather'] = mars_weather\n",
    "recent_mars_info['Hemisphere_images'] = img_dict\n",
    "\n",
    "df_dict = df.to_dict()\n",
    "\n",
    "recent_mars_info['Mars Facts'] = df_dict['Value']\n",
    "\n",
    "recent_mars_info['Mars Facts']"
   ]
  },
  {
   "cell_type": "code",
   "execution_count": 28,
   "metadata": {},
   "outputs": [],
   "source": [
    "# client.drop_database(db)"
   ]
  },
  {
   "cell_type": "code",
   "execution_count": 30,
   "metadata": {},
   "outputs": [
    {
     "name": "stdout",
     "output_type": "stream",
     "text": [
      "{'_id': ObjectId('5ea9dc57d07eb8f6b20a91b1'), 'mars_info': {'Latest News': {'Title': \"Q&A with the Student Who Named Ingenuity, NASA's Mars Helicopter\", 'Teaser': 'As a longtime fan of space exploration, Vaneeza Rupani appreciates the creativity and collaboration involved with trying to fly on another planet.', 'URL': '/news/8660/qa-with-the-student-who-named-ingenuity-nasas-mars-helicopter/', 'Image': '/assets/overlay-arrow.png'}, 'JPL Featured Image': 'https://www.jpl.nasa.gov/spaceimages/images/mediumsize/PIA16605_ip.jpg', 'Current Mars Weather': 'Lovely view of Gale Crater right in the middle of this. https://twitter.com/landru79/status/1255504178719404034\\xa0…pic.twitter.com/m38l1OIKHE', 'Hemisphere_images': {'Cerberus': 'http://astropedia.astrogeology.usgs.gov/download/Mars/Viking/cerberus_enhanced.tif/full.jpg', 'Schiaparelli': 'http://astropedia.astrogeology.usgs.gov/download/Mars/Viking/schiaparelli_enhanced.tif/full.jpg', 'Syrtis': 'http://astropedia.astrogeology.usgs.gov/download/Mars/Viking/syrtis_major_enhanced.tif/full.jpg', 'Valles': 'http://astropedia.astrogeology.usgs.gov/download/Mars/Viking/valles_marineris_enhanced.tif/full.jpg'}, 'Mars Facts': {'Equatorial Diameter:': '6,792 km', 'Polar Diameter:': '6,752 km', 'Mass:': '6.39 × 10^23 kg (0.11 Earths)', 'Moons:': '2 (Phobos & Deimos)', 'Orbit Distance:': '227,943,824 km (1.38 AU)', 'Orbit Period:': '687 days (1.9 years)', 'Surface Temperature:': '-87 to -5 °C', 'First Record:': '2nd millennium BC', 'Recorded By:': 'Egyptian astronomers'}, '_id': ObjectId('5ea9db68684e07f170f63d3f')}}\n"
     ]
    },
    {
     "name": "stderr",
     "output_type": "stream",
     "text": [
      "/opt/anaconda3/lib/python3.7/site-packages/ipykernel_launcher.py:8: DeprecationWarning: update is deprecated. Use replace_one, update_one or update_many instead.\n",
      "  \n"
     ]
    }
   ],
   "source": [
    "conn = 'mongodb://localhost:27017'\n",
    "client = pymongo.MongoClient(conn)\n",
    "\n",
    "# Define database and collection\n",
    "db = client.mars_db\n",
    "collection = db.mars_info\n",
    "\n",
    "collection.update({}, {\"$set\": {'mars_info':recent_mars_info}}, upsert=True)\n",
    "\n",
    "\n",
    "listings = db.mars_info.find()\n",
    "\n",
    "for listing in listings:\n",
    "    print(listing)"
   ]
  },
  {
   "cell_type": "code",
   "execution_count": null,
   "metadata": {},
   "outputs": [],
   "source": []
  }
 ],
 "metadata": {
  "kernelspec": {
   "display_name": "Python 3",
   "language": "python",
   "name": "python3"
  },
  "language_info": {
   "codemirror_mode": {
    "name": "ipython",
    "version": 3
   },
   "file_extension": ".py",
   "mimetype": "text/x-python",
   "name": "python",
   "nbconvert_exporter": "python",
   "pygments_lexer": "ipython3",
   "version": "3.7.4"
  }
 },
 "nbformat": 4,
 "nbformat_minor": 2
}
